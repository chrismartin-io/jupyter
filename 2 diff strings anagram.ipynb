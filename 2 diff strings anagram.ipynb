{
 "cells": [
  {
   "cell_type": "code",
   "execution_count": 16,
   "id": "fd788804-8c14-43a3-bf0c-245ee4d7d302",
   "metadata": {},
   "outputs": [],
   "source": [
    "# Determine if 2 strings are anagrams of one another"
   ]
  },
  {
   "cell_type": "code",
   "execution_count": 4,
   "id": "c6aee68f-b843-43ec-b36f-35b0da1e1240",
   "metadata": {},
   "outputs": [],
   "source": [
    "def anagram(s1, s2):\n",
    "    s1 = s1.replace(' ','').lower()\n",
    "    s2 = s2.replace(' ','').lower()\n",
    "    \n",
    "    return sorted(s1) == sorted(s2)"
   ]
  },
  {
   "cell_type": "code",
   "execution_count": 34,
   "id": "74a7896a-0dce-448a-8979-6b97c5a08080",
   "metadata": {},
   "outputs": [],
   "source": [
    "from collections import defaultdict\n",
    "\n",
    "def anagram2(s1, s2):\n",
    "    dict1 = defaultdict(int)\n",
    "\n",
    "    for letter in s1:\n",
    "        dict1[letter] += 1\n",
    "        print(dict1)\n",
    "    for letter in s2:\n",
    "        dict1[letter] -= 1\n",
    "        \n",
    "    print(dict1.values())\n",
    "    \n",
    "    return len(set(dict1.values())) == 1"
   ]
  },
  {
   "cell_type": "code",
   "execution_count": 35,
   "id": "4e6a1b94-b2a7-4926-ab88-ec5e7d9a34ea",
   "metadata": {},
   "outputs": [
    {
     "name": "stdout",
     "output_type": "stream",
     "text": [
      "defaultdict(<class 'int'>, {'d': 1})\n",
      "defaultdict(<class 'int'>, {'d': 1, 'o': 1})\n",
      "defaultdict(<class 'int'>, {'d': 1, 'o': 1, 'g': 1})\n",
      "dict_values([0, 0, 0])\n"
     ]
    },
    {
     "data": {
      "text/plain": [
       "True"
      ]
     },
     "execution_count": 35,
     "metadata": {},
     "output_type": "execute_result"
    }
   ],
   "source": [
    "anagram2('dog', 'god')"
   ]
  },
  {
   "cell_type": "code",
   "execution_count": 36,
   "id": "7f3639b9-7bbb-40eb-8bba-629924d3e8c1",
   "metadata": {},
   "outputs": [
    {
     "data": {
      "text/plain": [
       "True"
      ]
     },
     "execution_count": 36,
     "metadata": {},
     "output_type": "execute_result"
    }
   ],
   "source": [
    "anagram('clint eastwood', 'old west action')"
   ]
  },
  {
   "cell_type": "code",
   "execution_count": 37,
   "id": "174bf348-40a4-4113-9424-159ef8d22a99",
   "metadata": {},
   "outputs": [
    {
     "data": {
      "text/plain": [
       "False"
      ]
     },
     "execution_count": 37,
     "metadata": {},
     "output_type": "execute_result"
    }
   ],
   "source": [
    "anagram('hi', 'h8i2')"
   ]
  }
 ],
 "metadata": {
  "kernelspec": {
   "display_name": "Python 3 (ipykernel)",
   "language": "python",
   "name": "python3"
  },
  "language_info": {
   "codemirror_mode": {
    "name": "ipython",
    "version": 3
   },
   "file_extension": ".py",
   "mimetype": "text/x-python",
   "name": "python",
   "nbconvert_exporter": "python",
   "pygments_lexer": "ipython3",
   "version": "3.10.5"
  }
 },
 "nbformat": 4,
 "nbformat_minor": 5
}
