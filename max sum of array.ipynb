{
 "cells": [
  {
   "cell_type": "code",
   "execution_count": 1,
   "id": "ec7e745e-9ae6-432f-97b4-df6cae7ed1db",
   "metadata": {},
   "outputs": [],
   "source": [
    "# take an array with positive and negative integers and find the maximum sum of that array"
   ]
  },
  {
   "cell_type": "code",
   "execution_count": null,
   "id": "853709ea-4f2e-4f5f-8aae-9c21ac9d953c",
   "metadata": {},
   "outputs": [],
   "source": []
  },
  {
   "cell_type": "code",
   "execution_count": 8,
   "id": "181982b2-c582-4964-ac60-481021cf119f",
   "metadata": {},
   "outputs": [],
   "source": [
    "def max_sum(arr):\n",
    "    \n",
    "    max_sum = current_sum = arr[0]\n",
    "    \n",
    "    for num in arr[1:]:\n",
    "        current_sum = max(current_sum + num, num)\n",
    "        \n",
    "        max_sum = max(max_sum, current_sum)\n",
    "        \n",
    "    return max_sum\n",
    "    "
   ]
  },
  {
   "cell_type": "code",
   "execution_count": 10,
   "id": "cbdc450f-f53d-4fc4-bf2f-b09f2ad56b82",
   "metadata": {},
   "outputs": [
    {
     "name": "stdout",
     "output_type": "stream",
     "text": [
      "38\n"
     ]
    }
   ],
   "source": [
    "print(max_sum([7, 1, 2, -1, 3, 4, 10, -12, 3, 21, -19]))"
   ]
  },
  {
   "cell_type": "code",
   "execution_count": null,
   "id": "6fd3ce86-14d4-4537-9aeb-7c65d3452d06",
   "metadata": {},
   "outputs": [],
   "source": []
  }
 ],
 "metadata": {
  "kernelspec": {
   "display_name": "Python 3 (ipykernel)",
   "language": "python",
   "name": "python3"
  },
  "language_info": {
   "codemirror_mode": {
    "name": "ipython",
    "version": 3
   },
   "file_extension": ".py",
   "mimetype": "text/x-python",
   "name": "python",
   "nbconvert_exporter": "python",
   "pygments_lexer": "ipython3",
   "version": "3.10.5"
  }
 },
 "nbformat": 4,
 "nbformat_minor": 5
}
