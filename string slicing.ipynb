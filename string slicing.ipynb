{
 "cells": [
  {
   "cell_type": "code",
   "execution_count": null,
   "id": "933e40c0-fd28-44a5-bf55-83353c9d9e61",
   "metadata": {},
   "outputs": [],
   "source": [
    "# arr[start:stop]         # items start through stop-1\n",
    "# arr[start:]             # items start through the rest of the array\n",
    "# arr[:stop]              # items from the beginning through stop-1\n",
    "# arr[:]                  # a copy of the whole array\n",
    "# arr[start:stop:step]    # start through not past stop, by step\n",
    "\n",
    "# slice(stop)\n",
    "# slice(start, stop, step)"
   ]
  },
  {
   "cell_type": "code",
   "execution_count": 1,
   "id": "a0a486e8-aa4d-4aa2-aa1d-4c6225647dc9",
   "metadata": {},
   "outputs": [],
   "source": [
    "string = 'astring'"
   ]
  },
  {
   "cell_type": "code",
   "execution_count": null,
   "id": "a13131bd-bb2f-4ef3-899d-2ffdda3d31ed",
   "metadata": {},
   "outputs": [
    {
     "data": {
      "text/plain": [
       "('ast', 'ast')"
      ]
     },
     "execution_count": 9,
     "metadata": {},
     "output_type": "execute_result"
    }
   ],
   "source": [
    "string[slice(3)], string[:3]"
   ]
  },
  {
   "cell_type": "code",
   "execution_count": 13,
   "id": "75160892-6449-4b63-ad42-28626833d0a1",
   "metadata": {},
   "outputs": [
    {
     "data": {
      "text/plain": [
       "'ast'"
      ]
     },
     "execution_count": 13,
     "metadata": {},
     "output_type": "execute_result"
    }
   ],
   "source": [
    "string[0:3]"
   ]
  },
  {
   "cell_type": "code",
   "execution_count": 12,
   "id": "20f50cb8-24d5-46a6-8e96-f2cb875b0fa2",
   "metadata": {},
   "outputs": [
    {
     "data": {
      "text/plain": [
       "'ring'"
      ]
     },
     "execution_count": 12,
     "metadata": {},
     "output_type": "execute_result"
    }
   ],
   "source": [
    "string[3:]"
   ]
  },
  {
   "cell_type": "code",
   "execution_count": 10,
   "id": "cebcd557-b2f4-47e0-8593-018ea2c5b498",
   "metadata": {},
   "outputs": [
    {
     "data": {
      "text/plain": [
       "('sr', 'sr')"
      ]
     },
     "execution_count": 10,
     "metadata": {},
     "output_type": "execute_result"
    }
   ],
   "source": [
    "string[slice(1, 5, 2)], string[1:5:2]"
   ]
  },
  {
   "cell_type": "code",
   "execution_count": 11,
   "id": "69953b9a-7ec0-43a5-94b7-a7b169023ada",
   "metadata": {},
   "outputs": [
    {
     "data": {
      "text/plain": [
       "('gita', 'gita')"
      ]
     },
     "execution_count": 11,
     "metadata": {},
     "output_type": "execute_result"
    }
   ],
   "source": [
    "string[slice(-1, -12, -2)], string[-1:-12:-2]"
   ]
  },
  {
   "cell_type": "code",
   "execution_count": null,
   "id": "a6a91dac-cf5e-4cbe-9352-70af38b5d3db",
   "metadata": {},
   "outputs": [],
   "source": []
  }
 ],
 "metadata": {
  "kernelspec": {
   "display_name": "Python 3 (ipykernel)",
   "language": "python",
   "name": "python3"
  },
  "language_info": {
   "codemirror_mode": {
    "name": "ipython",
    "version": 3
   },
   "file_extension": ".py",
   "mimetype": "text/x-python",
   "name": "python",
   "nbconvert_exporter": "python",
   "pygments_lexer": "ipython3",
   "version": "3.10.5"
  }
 },
 "nbformat": 4,
 "nbformat_minor": 5
}
