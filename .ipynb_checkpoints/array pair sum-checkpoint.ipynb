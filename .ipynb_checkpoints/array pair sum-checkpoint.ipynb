{
 "cells": [
  {
   "cell_type": "code",
   "execution_count": 4,
   "id": "5392021c-3a4b-4723-bf3b-af23ea1effcb",
   "metadata": {},
   "outputs": [],
   "source": [
    "# Array pair sum\n",
    "# Given an integer array, output all the unique pairs that sum up to a specific value\n",
    "# pair_sum([1, 3, 2, 2],4)\n",
    "# (1, 3)\n",
    "# (2, 2)"
   ]
  },
  {
   "cell_type": "code",
   "execution_count": null,
   "id": "8396648c-da88-4bcd-9e6a-cab6a96bf588",
   "metadata": {},
   "outputs": [],
   "source": [
    "# 2 pointers?"
   ]
  },
  {
   "cell_type": "code",
   "execution_count": 34,
   "id": "2e65900d-3214-4def-90e2-0a7a926e4bd3",
   "metadata": {},
   "outputs": [],
   "source": [
    "def pair_sum(list, sum):\n",
    "    \n",
    "    pointer1 = 0\n",
    "    pointer2 = 1\n",
    "    \n",
    "    result = []\n",
    "    \n",
    "    while pointer1 < len(list):\n",
    "        \n",
    "        print(pointer1, pointer2)\n",
    "        if list[pointer1] + list[pointer2] == sum:\n",
    "            result.append([list[pointer1], list[pointer2]])\n",
    "                          \n",
    "        pointer2 += 1\n",
    "                          \n",
    "        if pointer2 >= len(list):\n",
    "            pointer1 += 1\n",
    "            pointer2 = pointer1 + 1\n",
    "        if pointer2 >= len(list):\n",
    "            break\n",
    "                          \n",
    "    return result\n",
    "        "
   ]
  },
  {
   "cell_type": "code",
   "execution_count": 39,
   "id": "251a13e2-7386-49f0-a8b7-c21fe3a8d1c5",
   "metadata": {},
   "outputs": [
    {
     "name": "stdout",
     "output_type": "stream",
     "text": [
      "0 1\n",
      "0 2\n",
      "0 3\n",
      "1 2\n",
      "1 3\n",
      "2 3\n"
     ]
    },
    {
     "data": {
      "text/plain": [
       "[[1, 3], [2, 2]]"
      ]
     },
     "execution_count": 39,
     "metadata": {},
     "output_type": "execute_result"
    }
   ],
   "source": [
    "pair_sum([1, 3, 2, 2], 4)"
   ]
  },
  {
   "cell_type": "code",
   "execution_count": 52,
   "id": "0b0965c7-57f5-4fa9-b848-5323a387cb03",
   "metadata": {},
   "outputs": [],
   "source": [
    "def pair_sum2(list, sum):\n",
    "    \n",
    "    seen = set()\n",
    "    result = set()\n",
    "    \n",
    "    for num in list:\n",
    "        target = sum - num\n",
    "        \n",
    "\n",
    "        # print('result', result)\n",
    "        \n",
    "        if target not in seen:\n",
    "            seen.add(num)\n",
    "            \n",
    "        else:\n",
    "            result.add((min(num, target), max(num, target)))\n",
    "            \n",
    "        print('num', num)\n",
    "        print('target', target)\n",
    "        print('seen', seen)\n",
    "    \n",
    "    return result"
   ]
  },
  {
   "cell_type": "code",
   "execution_count": 53,
   "id": "87a3af77-8939-479c-96b8-644cc62887a5",
   "metadata": {},
   "outputs": [
    {
     "name": "stdout",
     "output_type": "stream",
     "text": [
      "num 1\n",
      "target 3\n",
      "seen {1}\n",
      "num 3\n",
      "target 1\n",
      "seen {1}\n",
      "num 2\n",
      "target 2\n",
      "seen {1, 2}\n",
      "num 2\n",
      "target 2\n",
      "seen {1, 2}\n"
     ]
    },
    {
     "data": {
      "text/plain": [
       "{(1, 3), (2, 2)}"
      ]
     },
     "execution_count": 53,
     "metadata": {},
     "output_type": "execute_result"
    }
   ],
   "source": [
    "pair_sum2([1, 3, 2, 2], 4)"
   ]
  },
  {
   "cell_type": "code",
   "execution_count": null,
   "id": "996cf9e3-5799-4874-9d3a-6a51c42f27ab",
   "metadata": {},
   "outputs": [],
   "source": []
  }
 ],
 "metadata": {
  "kernelspec": {
   "display_name": "Python 3 (ipykernel)",
   "language": "python",
   "name": "python3"
  },
  "language_info": {
   "codemirror_mode": {
    "name": "ipython",
    "version": 3
   },
   "file_extension": ".py",
   "mimetype": "text/x-python",
   "name": "python",
   "nbconvert_exporter": "python",
   "pygments_lexer": "ipython3",
   "version": "3.10.5"
  }
 },
 "nbformat": 4,
 "nbformat_minor": 5
}
