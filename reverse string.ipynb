{
 "cells": [
  {
   "cell_type": "code",
   "execution_count": 1,
   "id": "708cea9e-52e3-4833-a105-9da13c71036a",
   "metadata": {},
   "outputs": [],
   "source": [
    "# reverse all the words\n",
    "\n",
    "# start = 'this is the best'\n",
    "# end = 'best the is this'\n",
    "\n"
   ]
  },
  {
   "cell_type": "code",
   "execution_count": null,
   "id": "b547447a-fbf4-4a9e-833b-7b695e4c18b0",
   "metadata": {},
   "outputs": [],
   "source": []
  },
  {
   "cell_type": "code",
   "execution_count": 20,
   "id": "99b4b85c-b460-4f8c-8c0b-393733862fa0",
   "metadata": {},
   "outputs": [],
   "source": [
    "def reverse(str):\n",
    "    print(str.split())\n",
    "    return \" \".join(reversed(str.split()))"
   ]
  },
  {
   "cell_type": "code",
   "execution_count": 22,
   "id": "907476a2-784a-45d7-bd72-7e2ce9d045ac",
   "metadata": {},
   "outputs": [
    {
     "name": "stdout",
     "output_type": "stream",
     "text": [
      "['This', 'is', 'the', 'best']\n",
      "best the is This\n"
     ]
    }
   ],
   "source": [
    "print(reverse('This is the best'))\n",
    "    "
   ]
  },
  {
   "cell_type": "code",
   "execution_count": 53,
   "id": "b7500f78-f762-48d8-86d8-d2eab07ac114",
   "metadata": {},
   "outputs": [],
   "source": [
    "def reverse2(str):\n",
    "    \n",
    "    i = 0\n",
    "    words = []\n",
    "    result = ''\n",
    "    \n",
    "    while i < len(str):\n",
    "  \n",
    "        if str[i] != ' ':\n",
    "            \n",
    "            word_start = i\n",
    "            \n",
    "            while i < len(str) and str[i] != ' ':\n",
    "                 i += 1\n",
    "            \n",
    "            words.append(str[word_start:i])\n",
    "            word_start = i + 1\n",
    "            \n",
    "        else:\n",
    "            i += 1\n",
    "            \n",
    "            \n",
    "    # BACKWARDS ITERATION \n",
    "    for word in words[::-1]:\n",
    "        result += word\n",
    "        \n",
    "    return \" \".join(reversed(words))\n",
    "        \n",
    "            "
   ]
  },
  {
   "cell_type": "code",
   "execution_count": 54,
   "id": "7e742a9f-f355-47c5-809d-ca3277bc6cf4",
   "metadata": {},
   "outputs": [
    {
     "name": "stdout",
     "output_type": "stream",
     "text": [
      "best the is This\n"
     ]
    }
   ],
   "source": [
    "print(reverse2('This is the best'))"
   ]
  },
  {
   "cell_type": "code",
   "execution_count": 35,
   "id": "c85653f9-e005-4ee0-a659-61bbe5ef0154",
   "metadata": {},
   "outputs": [],
   "source": [
    "str1 = ' '"
   ]
  },
  {
   "cell_type": "code",
   "execution_count": 36,
   "id": "6566f8ff-0c13-4933-bf91-b8204f089438",
   "metadata": {},
   "outputs": [
    {
     "data": {
      "text/plain": [
       "True"
      ]
     },
     "execution_count": 36,
     "metadata": {},
     "output_type": "execute_result"
    }
   ],
   "source": [
    "' ' == str1"
   ]
  },
  {
   "cell_type": "code",
   "execution_count": null,
   "id": "57b3af2e-f14b-43ab-8ef9-3d243dd8dcd5",
   "metadata": {},
   "outputs": [],
   "source": []
  }
 ],
 "metadata": {
  "kernelspec": {
   "display_name": "Python 3 (ipykernel)",
   "language": "python",
   "name": "python3"
  },
  "language_info": {
   "codemirror_mode": {
    "name": "ipython",
    "version": 3
   },
   "file_extension": ".py",
   "mimetype": "text/x-python",
   "name": "python",
   "nbconvert_exporter": "python",
   "pygments_lexer": "ipython3",
   "version": "3.10.5"
  }
 },
 "nbformat": 4,
 "nbformat_minor": 5
}
